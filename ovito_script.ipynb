{
  "nbformat": 4,
  "nbformat_minor": 0,
  "metadata": {
    "colab": {
      "provenance": []
    },
    "kernelspec": {
      "name": "python3",
      "display_name": "Python 3"
    },
    "language_info": {
      "name": "python"
    }
  },
  "cells": [
    {
      "cell_type": "code",
      "source": [
        "''' this is a script designed to take in a dump file from an MD LAMMPS simulation and process it using OVITO.\n",
        "it will export the first frame without modifiers (original crystal), the last frame with modifiers (interstitials),\n",
        "and a pared down file containing interstitials throughout the course of the simulation in order to analyze recombination effects.\n",
        "@author:wuaudrey'''"
      ],
      "metadata": {
        "id": "UCzddEba6wVj"
      },
      "execution_count": null,
      "outputs": []
    },
    {
      "cell_type": "code",
      "execution_count": null,
      "metadata": {
        "id": "L4g245-p2PqA"
      },
      "outputs": [],
      "source": [
        "!pip install ovito\n",
        "import ovito\n",
        "from ovito import scene\n",
        "from ovito.io import FileWriterInterface, import_file, export_file\n",
        "from ovito.modifiers import ComputePropertyModifier, ExpressionSelectionModifier, CoordinationAnalysisModifier, DeleteSelectedModifier, SliceModifier\n",
        "import sys"
      ]
    },
    {
      "cell_type": "code",
      "source": [
        "#pipeline = import_file('Si_quartz_atomic_1keV_28282_5ps_2025_07_07.dump')\n",
        "\n",
        "#if running with bash file, comment out the line above and use:\n",
        "file_path = sys.argv[1]\n",
        "pipeline = import_file(file_path)\n",
        "\n",
        "# insert the pipeline into the visualization scene.\n",
        "pipeline.add_to_scene()\n",
        "# it's now part of the 'scene.pipelines' list.\n",
        "assert pipeline in scene.pipelines\n",
        "# if needed, we can take it out again.\n",
        "#pipeline.remove_from_scene()\n",
        "\n",
        "# lattice dimensions\n",
        "xdim, ydim, zdim = 200.0, 200.0, 200.0"
      ],
      "metadata": {
        "id": "7_tdY4Er3WzT"
      },
      "execution_count": null,
      "outputs": []
    },
    {
      "cell_type": "code",
      "source": [
        "# add modifiers\n",
        "\n",
        "# compute property modifier\n",
        "pipeline.modifiers.append(ComputePropertyModifier(\n",
        "    output_property = 'Timestep',\n",
        "    expressions = ['Timestep']\n",
        "))\n",
        "\n",
        "# coordination analysis modifier\n",
        "pipeline.modifiers.append(CoordinationAnalysisModifier(cutoff = 2.0, number_of_bins = 200))"
      ],
      "metadata": {
        "id": "za4VdaxwudXD"
      },
      "execution_count": null,
      "outputs": []
    },
    {
      "cell_type": "code",
      "source": [
        "data_original = pipeline.compute()\n",
        "\n",
        "# first frame:\n",
        "export_file(data_original, \"quartz_600k_atomic_1keV_28282_og_python.xyz\", \"xyz\", frame = 0, multiple_frames = False, columns =\n",
        "  [\"Particle Identifier\", \"Particle Type\", \"Position.X\", \"Position.Y\", \"Position.Z\", \"Timestep\", \"Coordination\"])"
      ],
      "metadata": {
        "id": "AhU6yQO-EKxC"
      },
      "execution_count": null,
      "outputs": []
    },
    {
      "cell_type": "code",
      "source": [
        "# add modifiers pt 2\n",
        "\n",
        "# expression selection modifier\n",
        "pipeline.modifiers.append(ExpressionSelectionModifier(expression = 'ParticleType == 1 && Coordination == 4 || ParticleType == 2 && Coordination == 2'))\n",
        "\n",
        "# slice modifiers\n",
        "'''distance = 0.0 only for lattices centered at the origin, if your lattice isn't centered at the origin, you need to change the distance value'''\n",
        "\n",
        "pipeline.modifiers.append(SliceModifier(distance=0.0, slab_width = xdim - 10, normal = (1.0,0.0,0.0)))\n",
        "pipeline.modifiers.append(SliceModifier(distance=0.0, slab_width = ydim - 10, normal = (0.0,1.0,0.0)))\n",
        "pipeline.modifiers.append(SliceModifier(distance=0.0, slab_width = zdim - 10, normal = (0.0,0.0,1.0)))\n",
        "\n",
        "# delete selected modifier\n",
        "\n",
        "pipeline.modifiers.append(DeleteSelectedModifier())\n"
      ],
      "metadata": {
        "id": "BJDAet3Y5uW7"
      },
      "execution_count": null,
      "outputs": []
    },
    {
      "cell_type": "code",
      "source": [
        "data_last_frame = pipeline.compute(pipeline.source.num_frames - 1)\n",
        "print(f\"Particles in last frame: {data_last_frame.particles.count}\") ## number of vacancies!! can be used as a quick check before running through the full calculation process\n",
        "\n",
        "# last frame:\n",
        "export_file(data_last_frame, \"quartz_600k_atomic_1keV_28282_5ps_python.xyz\", \"xyz\", frame = pipeline.source.num_frames - 1 , multiple_frames = False, columns =\n",
        "  [\"Particle Identifier\", \"Particle Type\", \"Position.X\", \"Position.Y\", \"Position.Z\", \"Timestep\", \"Coordination\"])\n",
        "\n",
        "# full run (for recombination analysis):\n",
        "export_file(pipeline, \"quartz_600k_atomic_1keV_28282_5ps_numvacancies_python.xyz\", \"xyz\", multiple_frames = True, columns =\n",
        "  [\"Particle Identifier\", \"Particle Type\", \"Timestep\"])"
      ],
      "metadata": {
        "id": "jZIHyw_DENUs"
      },
      "execution_count": null,
      "outputs": []
    }
  ]
}