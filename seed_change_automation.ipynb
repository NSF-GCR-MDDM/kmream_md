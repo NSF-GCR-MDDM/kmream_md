{
  "nbformat": 4,
  "nbformat_minor": 0,
  "metadata": {
    "colab": {
      "provenance": []
    },
    "kernelspec": {
      "name": "python3",
      "display_name": "Python 3"
    },
    "language_info": {
      "name": "python"
    }
  },
  "cells": [
    {
      "cell_type": "code",
      "source": [
        "#automate changing seed for a particular sim, allows multiple iterations of the same sim to be run sequentially using a bash.sh file\n",
        "#@author:wuaudrey"
      ],
      "metadata": {
        "id": "jJz-4gL4xi15"
      },
      "execution_count": null,
      "outputs": []
    },
    {
      "cell_type": "code",
      "source": [
        "import numpy as np\n",
        "import pandas as pd\n",
        "import matplotlib.pyplot as plt\n",
        "!pip install ase\n",
        "import ase #package called Atomic Simulation Environment which allows us to construct crystals easily\n",
        "from ase.spacegroup import crystal\n",
        "from ase.visualize import view\n",
        "from ase.visualize.plot import plot_atoms\n",
        "from tqdm import tqdm\n",
        "from ase.io import read, write\n",
        "import random"
      ],
      "metadata": {
        "id": "1QbQZ_mTuZte"
      },
      "execution_count": null,
      "outputs": []
    },
    {
      "cell_type": "code",
      "execution_count": null,
      "metadata": {
        "id": "tU4dfGvopWHx"
      },
      "outputs": [],
      "source": [
        "seed_line = 'variable seed equal'\n",
        "seed_num = random.randint(10000, 99999)\n",
        "new_seed = f\"variable seed equal {seed_num}\\n\"\n",
        "# Read all lines from the file\n",
        "with open(\"trial_sim.in\", \"r\") as f:\n",
        "    lines = f.readlines()\n",
        "\n",
        "# Modify the target line\n",
        "    for i, line in enumerate(lines):\n",
        "        if seed_line in line:\n",
        "            lines[i] = new_seed\n",
        "            #lines[i+1] = \"/n\"\n",
        "            break  # optional: remove if there could be multiple matches\n",
        "\n",
        "# Write the modified lines back to the file\n",
        "with open(\"trial_sim.in\", \"w\") as f:\n",
        "    f.writelines(lines)"
      ]
    },
    {
      "cell_type": "code",
      "source": [],
      "metadata": {
        "id": "UkvTGCvDvQzb"
      },
      "execution_count": null,
      "outputs": []
    }
  ]
}