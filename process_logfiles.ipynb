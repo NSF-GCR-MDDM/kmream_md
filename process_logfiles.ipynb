{
  "nbformat": 4,
  "nbformat_minor": 0,
  "metadata": {
    "colab": {
      "provenance": []
    },
    "kernelspec": {
      "name": "python3",
      "display_name": "Python 3"
    },
    "language_info": {
      "name": "python"
    }
  },
  "cells": [
    {
      "cell_type": "code",
      "source": [
        "'''code to read a set of logfiles and find information of runtime, memory, # of CPU/GPUs, etc.\n",
        " and write to a new document for the purpose of analysis of computing power and speed\n",
        " @author:wuaudrey'''"
      ],
      "metadata": {
        "id": "fXj9fTtEyWzf"
      },
      "execution_count": null,
      "outputs": []
    },
    {
      "cell_type": "code",
      "execution_count": null,
      "metadata": {
        "id": "4orFJES8xc9X"
      },
      "outputs": [],
      "source": [
        "import numpy as np\n",
        "import pandas as pd\n",
        "import matplotlib.pyplot as plt\n",
        "!pip install ase\n",
        "import ase\n",
        "from ase.io import read, write\n",
        "import re"
      ]
    },
    {
      "cell_type": "code",
      "source": [
        "'''GPU log files are slightly different, and this code will eventually be updated to account for that,\n",
        "but currently this should only be used for CPU log files'''\n",
        "\n",
        "machine_name = 'nalen'  # update these lines!\n",
        "logfile_names = ['trial_sim.log',\n",
        "                 'trial_sim_2.log'\n",
        "                 ]\n",
        "\n",
        "\n",
        "time = 'Total wall time:'\n",
        "memory = \"CPU use with\"\n",
        "\n",
        "def find_data(filename):\n",
        "    # read all lines from the file\n",
        "    with open(filename, \"r\") as f:\n",
        "        lines = f.readlines()\n",
        "\n",
        "    # find data\n",
        "        for i, line in enumerate(lines):\n",
        "            if time in line:\n",
        "                wall_time = lines[i].strip().split(\"Total wall time:\")[1].strip()\n",
        "            if memory in line:\n",
        "              match = re.search(r'(\\d+)\\s+MPI tasks\\s+x\\s+(\\d+)\\s+OpenMP threads', line)\n",
        "              if match:\n",
        "                    mpi_tasks = match.group(1)\n",
        "                    threads = match.group(2)\n",
        "\n",
        "    return mpi_tasks, threads, wall_time\n",
        "\n",
        "# write data to a new file\n",
        "open(\"trial_sim_data.txt\", 'x')\n",
        "with open(\"trial_sim_data.txt\", \"w\") as f:\n",
        "    f.write(f\"#{machine_name}\")\n",
        "    f.write(f\"#{'CPUs'} \\t {'Threads'} \\t {'Wall Time'} \\n\")\n",
        "    for filename in logfile_names:\n",
        "        mpi_tasks, threads, wall_time = find_data(filename)\n",
        "        f.write(f\"{mpi_tasks} \\t {threads} \\t {wall_time} \\n\")"
      ],
      "metadata": {
        "id": "jhklhqvmyLs4"
      },
      "execution_count": null,
      "outputs": []
    },
    {
      "cell_type": "code",
      "source": [],
      "metadata": {
        "id": "PzAgbmdh3gVW"
      },
      "execution_count": null,
      "outputs": []
    }
  ]
}