{
 "cells": [
  {
   "cell_type": "code",
   "execution_count": 30,
   "id": "133e0dbb-1b61-410e-8411-23611cf57518",
   "metadata": {},
   "outputs": [],
   "source": [
    "import numpy as np\n",
    "import pandas as pd\n",
    "import matplotlib.pyplot as plt\n",
    "import ase #package called Atomic Simulation Environment which allows us to construct crystals easily\n",
    "from ase.spacegroup import crystal\n",
    "from ase.visualize import view \n",
    "from ase.visualize.plot import plot_atoms\n",
    "from tqdm import tqdm"
   ]
  },
  {
   "cell_type": "code",
   "execution_count": null,
   "id": "6b92f265-783c-4140-b1d6-66c28a6e368e",
   "metadata": {},
   "outputs": [],
   "source": [
    "'''\n",
    "\n",
    "This script is designed to generate a large scale crystal meant to import into a LAMMPS script using the ASE package. \n",
    "The inputs involve the lengths of the different bonds for the crystal, the spacegroup number, the symbols associated with one\n",
    "unit cell, and defining some basis particles. \n",
    "\n",
    "@author: kmream\n",
    "'''"
   ]
  },
  {
   "cell_type": "markdown",
   "id": "bedba232-df16-43ea-9004-c85794c7c95e",
   "metadata": {},
   "source": [
    "# Configure the unit-cell atom as practice."
   ]
  },
  {
   "cell_type": "code",
   "execution_count": 9,
   "id": "cc804803-dc4f-42da-bc51-cab6745616af",
   "metadata": {},
   "outputs": [
    {
     "data": {
      "text/plain": [
       "<Popen: returncode: None args: ['/opt/anaconda3/bin/python', '-m', 'ase', 'g...>"
      ]
     },
     "execution_count": 9,
     "metadata": {},
     "output_type": "execute_result"
    }
   ],
   "source": [
    "a, c = 4.9137, 5.4047  #units in angstroms\n",
    "\n",
    "crystal_cell = crystal(\n",
    "    symbols='Si2O4',\n",
    "    basis=[\n",
    "        (0.4697, 0.0, 0.0),     # Si\n",
    "        (0.5303, 0.0, 0.6667),  # Si\n",
    "        (0.4133, 0.2673, 0.7854),  # O\n",
    "        (0.5867, -0.2673, 0.4520),\n",
    "        (0.7327, 0.1460, 0.1199),\n",
    "        (0.2673, -0.1460, 0.7854)\n",
    "    ],\n",
    "    spacegroup=152,  # P3121 for alpha-quartz\n",
    "    cellpar=[4.9137, 4.9137, 5.4047, 90, 90, 120],\n",
    ")\n",
    "\n",
    "view(crystal_cell)"
   ]
  },
  {
   "cell_type": "markdown",
   "id": "02d114ea-0bd2-44c4-94b6-a7e48901f407",
   "metadata": {},
   "source": [
    "# Scale up the unit crystal to the desired size and write it to an output file."
   ]
  },
  {
   "cell_type": "code",
   "execution_count": 42,
   "id": "279a70d2-e857-4dcb-b552-7135a1f69b5e",
   "metadata": {},
   "outputs": [],
   "source": [
    "crystal_unit = crystal(\n",
    "    symbols=['Si', 'Si', 'O', 'O', 'O', 'O'],\n",
    "    basis=[\n",
    "        (0.4697, 0.0, 0.0),     # Si\n",
    "        (0.5303, 0.0, 0.6667),  # Si\n",
    "        (0.4133, 0.2673, 0.7854),  # O\n",
    "        (0.5867, -0.2673, 0.4520),\n",
    "        (0.7327, 0.1460, 0.1199),\n",
    "        (0.2673, -0.1460, 0.7854)\n",
    "    ],\n",
    "    spacegroup=152,  # P3_121\n",
    "    cellpar=[4.9137, 4.9137, 5.4047, 90, 90, 120],\n",
    ")\n",
    "\n",
    "# Scale up the unit cell (e.g., 4×4×4 supercell)\n",
    "crystal_supercell = crystal_unit.repeat((110, 100, 100))\n",
    "view(crystal_supercell)\n",
    "\n",
    "# Save structure to file (e.g., .xyz or .lammps or .cif)\n",
    "crystal_supercell.write('quartz_supercell.lmp', format='lammps-data')\n",
    "with open('quartz_supercell.lmp', 'w') as f:\n",
    "    f.write(\"ID Type x y z\\n\")\n",
    "    for i, atom in enumerate(crystal_supercell, start=1):\n",
    "        atom_type = atom.number  # or use a mapping from symbol if needed\n",
    "        x, y, z = atom.position\n",
    "        f.write(f\"{i} {atom_type} {x:.6f} {y:.6f} {z:.6f}\\n\")"
   ]
  },
  {
   "cell_type": "code",
   "execution_count": null,
   "id": "de29184f-33cb-4eda-b915-ee4b5fcc76ab",
   "metadata": {},
   "outputs": [],
   "source": []
  }
 ],
 "metadata": {
  "kernelspec": {
   "display_name": "Python 3 (ipykernel)",
   "language": "python",
   "name": "python3"
  },
  "language_info": {
   "codemirror_mode": {
    "name": "ipython",
    "version": 3
   },
   "file_extension": ".py",
   "mimetype": "text/x-python",
   "name": "python",
   "nbconvert_exporter": "python",
   "pygments_lexer": "ipython3",
   "version": "3.9.7"
  }
 },
 "nbformat": 4,
 "nbformat_minor": 5
}
