{
 "cells": [
  {
   "cell_type": "code",
   "execution_count": 1,
   "id": "133e0dbb-1b61-410e-8411-23611cf57518",
   "metadata": {},
   "outputs": [],
   "source": [
    "import numpy as np\n",
    "import pandas as pd\n",
    "import matplotlib.pyplot as plt\n",
    "import ase #package called Atomic Simulation Environment which allows us to construct crystals easily\n",
    "from ase.spacegroup import crystal\n",
    "from ase.visualize import view \n",
    "from ase.visualize.plot import plot_atoms\n",
    "from tqdm import tqdm\n",
    "from ase.io import read\n",
    "from ase.io import write"
   ]
  },
  {
   "cell_type": "code",
   "execution_count": null,
   "id": "6b92f265-783c-4140-b1d6-66c28a6e368e",
   "metadata": {},
   "outputs": [],
   "source": [
    "'''\n",
    "\n",
    "This script is designed to generate a large scale crystal meant to import into a LAMMPS script using the ASE package. \n",
    "The input involves searching up a .cif file corresponding to the unit cell structure of that particularly\n",
    "desired crystal. This unit cell can be multiplied many times into a much larger supercell structure. \n",
    "\n",
    "@author: kmream\n",
    "'''"
   ]
  },
  {
   "cell_type": "code",
   "execution_count": 11,
   "id": "1ff0bbc2-9cb9-4aed-a9d6-cbc4cabaa405",
   "metadata": {},
   "outputs": [],
   "source": [
    "# Read CIF file -> these must be downloaded and located in the same repository \n",
    "#atoms = read('1011176.cif') #quartz\n",
    "#atoms = read('9011998.cif') #silicon \n",
    "\n",
    "atoms2 = read('quartz_unitcell.cif') \n",
    "\n",
    "# Replicate the unit cell\n",
    "atoms2 *= (300, 250, 120)\n",
    "\n",
    "#view(atoms2) \n"
   ]
  },
  {
   "cell_type": "code",
   "execution_count": 12,
   "id": "e224b54c-24a8-4f07-9472-b61d868a3186",
   "metadata": {},
   "outputs": [],
   "source": [
    "write(\"quartz_supercell_emilie.lmp\", atoms2, format=\"lammps-data\", specorder=['Si', 'O'])\n",
    "\n",
    "with open('quartz_supercell_emilie.lmp', 'w') as f:\n",
    "    f.write(\"ID Type x y z\\n\")\n",
    "    for i, atom in enumerate(atoms2, start=1):\n",
    "        atom_type = atom.number  # or use a mapping from symbol if needed\n",
    "        x, y, z = atom.position\n",
    "        f.write(f\"{i} {atom_type} {x:.6f} {y:.6f} {z:.6f}\\n\")  "
   ]
  },
  {
   "cell_type": "code",
   "execution_count": 15,
   "id": "6400d234-38aa-40c3-9aca-ae4f1cdc72e6",
   "metadata": {},
   "outputs": [
    {
     "data": {
      "text/html": [
       "<div>\n",
       "<style scoped>\n",
       "    .dataframe tbody tr th:only-of-type {\n",
       "        vertical-align: middle;\n",
       "    }\n",
       "\n",
       "    .dataframe tbody tr th {\n",
       "        vertical-align: top;\n",
       "    }\n",
       "\n",
       "    .dataframe thead th {\n",
       "        text-align: right;\n",
       "    }\n",
       "</style>\n",
       "<table border=\"1\" class=\"dataframe\">\n",
       "  <thead>\n",
       "    <tr style=\"text-align: right;\">\n",
       "      <th></th>\n",
       "      <th>ID</th>\n",
       "      <th>Type</th>\n",
       "      <th>charge</th>\n",
       "      <th>x</th>\n",
       "      <th>y</th>\n",
       "      <th>z</th>\n",
       "    </tr>\n",
       "  </thead>\n",
       "  <tbody>\n",
       "    <tr>\n",
       "      <th>0</th>\n",
       "      <td>1</td>\n",
       "      <td>2</td>\n",
       "      <td>-0.5</td>\n",
       "      <td>-42.838988</td>\n",
       "      <td>-53.047573</td>\n",
       "      <td>-32.035783</td>\n",
       "    </tr>\n",
       "    <tr>\n",
       "      <th>1</th>\n",
       "      <td>2</td>\n",
       "      <td>2</td>\n",
       "      <td>-0.5</td>\n",
       "      <td>-42.652243</td>\n",
       "      <td>-53.099106</td>\n",
       "      <td>-32.215939</td>\n",
       "    </tr>\n",
       "    <tr>\n",
       "      <th>2</th>\n",
       "      <td>3</td>\n",
       "      <td>2</td>\n",
       "      <td>-0.5</td>\n",
       "      <td>-42.700987</td>\n",
       "      <td>-52.911614</td>\n",
       "      <td>-32.396096</td>\n",
       "    </tr>\n",
       "    <tr>\n",
       "      <th>3</th>\n",
       "      <td>4</td>\n",
       "      <td>2</td>\n",
       "      <td>-0.5</td>\n",
       "      <td>-42.946672</td>\n",
       "      <td>-52.985402</td>\n",
       "      <td>-32.344355</td>\n",
       "    </tr>\n",
       "    <tr>\n",
       "      <th>4</th>\n",
       "      <td>5</td>\n",
       "      <td>2</td>\n",
       "      <td>-0.5</td>\n",
       "      <td>-43.084673</td>\n",
       "      <td>-52.849442</td>\n",
       "      <td>-32.164198</td>\n",
       "    </tr>\n",
       "    <tr>\n",
       "      <th>...</th>\n",
       "      <td>...</td>\n",
       "      <td>...</td>\n",
       "      <td>...</td>\n",
       "      <td>...</td>\n",
       "      <td>...</td>\n",
       "      <td>...</td>\n",
       "    </tr>\n",
       "    <tr>\n",
       "      <th>80999995</th>\n",
       "      <td>80999996</td>\n",
       "      <td>2</td>\n",
       "      <td>-0.5</td>\n",
       "      <td>42.659392</td>\n",
       "      <td>53.109745</td>\n",
       "      <td>32.151732</td>\n",
       "    </tr>\n",
       "    <tr>\n",
       "      <th>80999996</th>\n",
       "      <td>80999997</td>\n",
       "      <td>2</td>\n",
       "      <td>-0.5</td>\n",
       "      <td>42.846137</td>\n",
       "      <td>53.161277</td>\n",
       "      <td>32.331888</td>\n",
       "    </tr>\n",
       "    <tr>\n",
       "      <th>80999997</th>\n",
       "      <td>80999998</td>\n",
       "      <td>1</td>\n",
       "      <td>1.0</td>\n",
       "      <td>42.998437</td>\n",
       "      <td>52.797910</td>\n",
       "      <td>32.215939</td>\n",
       "    </tr>\n",
       "    <tr>\n",
       "      <th>80999998</th>\n",
       "      <td>80999999</td>\n",
       "      <td>1</td>\n",
       "      <td>1.0</td>\n",
       "      <td>42.652243</td>\n",
       "      <td>52.997785</td>\n",
       "      <td>32.035783</td>\n",
       "    </tr>\n",
       "    <tr>\n",
       "      <th>80999999</th>\n",
       "      <td>81000000</td>\n",
       "      <td>1</td>\n",
       "      <td>1.0</td>\n",
       "      <td>42.897928</td>\n",
       "      <td>53.023573</td>\n",
       "      <td>32.396096</td>\n",
       "    </tr>\n",
       "  </tbody>\n",
       "</table>\n",
       "<p>81000000 rows × 6 columns</p>\n",
       "</div>"
      ],
      "text/plain": [
       "                ID  Type  charge          x          y          z\n",
       "0                1     2    -0.5 -42.838988 -53.047573 -32.035783\n",
       "1                2     2    -0.5 -42.652243 -53.099106 -32.215939\n",
       "2                3     2    -0.5 -42.700987 -52.911614 -32.396096\n",
       "3                4     2    -0.5 -42.946672 -52.985402 -32.344355\n",
       "4                5     2    -0.5 -43.084673 -52.849442 -32.164198\n",
       "...            ...   ...     ...        ...        ...        ...\n",
       "80999995  80999996     2    -0.5  42.659392  53.109745  32.151732\n",
       "80999996  80999997     2    -0.5  42.846137  53.161277  32.331888\n",
       "80999997  80999998     1     1.0  42.998437  52.797910  32.215939\n",
       "80999998  80999999     1     1.0  42.652243  52.997785  32.035783\n",
       "80999999  81000000     1     1.0  42.897928  53.023573  32.396096\n",
       "\n",
       "[81000000 rows x 6 columns]"
      ]
     },
     "execution_count": 15,
     "metadata": {},
     "output_type": "execute_result"
    }
   ],
   "source": [
    "data = pd.read_csv('quartz_supercell_emilie.txt', sep = \" \")\n",
    "data['ID'] = data.index + 1\n",
    "data.loc[data['Type'] == 14, 'Type'] = 1\n",
    "data.loc[data['Type'] == 8, 'Type'] = 2\n",
    "charge_map = {1: 1.0, 2: -0.5}\n",
    "data['charge'] = data['Type'].map(charge_map)\n",
    "charge_col = data.pop('charge')\n",
    "data.insert(2, 'charge', charge_col)\n",
    "\n",
    "for coord in ['x', 'y', 'z']:\n",
    "    center = (data[coord].max() + data[coord].min()) / 2\n",
    "    data[coord] = data[coord] - center\n",
    "    data[coord] = data[coord] / 10\n",
    "\n",
    "data"
   ]
  },
  {
   "cell_type": "code",
   "execution_count": 16,
   "id": "8b9afcae",
   "metadata": {},
   "outputs": [
    {
     "data": {
      "text/plain": [
       "Text(0, 0.5, 'Z (nanometers)')"
      ]
     },
     "execution_count": 16,
     "metadata": {},
     "output_type": "execute_result"
    },
    {
     "data": {
      "image/png": "[encoded data removed]",
      "text/plain": [
       "<Figure size 1080x360 with 3 Axes>"
      ]
     },
     "metadata": {
      "needs_background": "light"
     },
     "output_type": "display_data"
    }
   ],
   "source": [
    "'''\n",
    "if necessary, cut the data such that it is rectangular/perpendicular to each axes w.r.t. all 3 planes -> below code visualizes supercell crystal for verification\n",
    "'''\n",
    "fig, axes = plt.subplots(1, 3, figsize=(15, 5), constrained_layout=True)\n",
    "\n",
    "axes[0].scatter(data['x'].values, data['y'].values, s = 2, marker = '.')\n",
    "axes[0].axvline(x = -25, color='r', linestyle='--')\n",
    "axes[0].axvline(x = 25, color='r', linestyle='--')\n",
    "axes[0].set_title('OG quartz imported')\n",
    "axes[0].set_xlabel('X (nanometers)')\n",
    "axes[0].set_ylabel('Y (nanometers)')\n",
    "\n",
    "axes[1].scatter(data['y'].values, data['z'].values, s = 2, marker = '.')\n",
    "axes[1].set_title('OG quartz imported')\n",
    "axes[1].set_xlabel('Y (nanometers)')\n",
    "axes[1].set_ylabel('Z (nanometers)')\n",
    "\n",
    "axes[2].scatter(data['x'].values, data['z'].values, s = 2, marker = '.')\n",
    "axes[2].set_title('OG quartz imported')\n",
    "axes[2].set_xlabel('X (nanometers)')\n",
    "axes[2].set_ylabel('Z (nanometers)')"
   ]
  },
  {
   "cell_type": "code",
   "execution_count": 17,
   "id": "4fc219b1",
   "metadata": {},
   "outputs": [
    {
     "name": "stderr",
     "output_type": "stream",
     "text": [
      "/var/folders/8_/7cxg7b591zn267gy4zwgyw6h0000gn/T/ipykernel_2660/2513552147.py:4: UserWarning: Boolean Series key will be reindexed to match DataFrame index.\n",
      "  data_new = data_new[(data['x'] > xcut_low)]\n"
     ]
    },
    {
     "data": {
      "text/plain": [
       "19910422"
      ]
     },
     "execution_count": 17,
     "metadata": {},
     "output_type": "execute_result"
    }
   ],
   "source": [
    "xcut_low, xcut_high, ycut_low, ycut_high, zcut_low, zcut_high = -25, 25, -50, 50, -25, 25\n",
    "def cutoff(data):\n",
    "    data_new = data[(data['x'] < xcut_high)]\n",
    "    data_new = data_new[(data['x'] > xcut_low)]\n",
    "    data_new = data_new[data_new['y'] > ycut_low]\n",
    "    data_new = data_new[data_new['y'] < ycut_high]\n",
    "    data_new = data_new[data_new['z'] > zcut_low]\n",
    "    data_new = data_new[data_new['z'] < zcut_high]\n",
    "    return data_new\n",
    "\n",
    "data = cutoff(data)\n",
    "for coord in ['x', 'y', 'z']:\n",
    "    center = (data[coord].max() + data[coord].min()) / 2\n",
    "    data[coord] = data[coord] - center\n",
    "\n",
    "len(data)"
   ]
  },
  {
   "cell_type": "code",
   "execution_count": 18,
   "id": "2e5ba788",
   "metadata": {},
   "outputs": [
    {
     "data": {
      "text/plain": [
       "Text(0, 0.5, 'Z (nanometers)')"
      ]
     },
     "execution_count": 18,
     "metadata": {},
     "output_type": "execute_result"
    },
    {
     "data": {
      "image/png": "[encoded data removed]",
      "text/plain": [
       "<Figure size 1080x360 with 3 Axes>"
      ]
     },
     "metadata": {
      "needs_background": "light"
     },
     "output_type": "display_data"
    }
   ],
   "source": [
    "'''\n",
    "if necessary, cut the data such that it is rectangular/perpendicular to each axes w.r.t. all 3 planes -> below code visualizes supercell crystal for verification\n",
    "'''\n",
    "fig, axes = plt.subplots(1, 3, figsize=(15, 5), constrained_layout=True)\n",
    "\n",
    "axes[0].scatter(data['x'].values, data['y'].values, s = 2, marker = '.')\n",
    "axes[0].set_title('OG quartz imported')\n",
    "axes[0].set_xlabel('X (nanometers)')\n",
    "axes[0].set_ylabel('Y (nanometers)')\n",
    "\n",
    "axes[1].scatter(data['y'].values, data['z'].values, s = 2, marker = '.')\n",
    "axes[1].set_title('OG quartz imported')\n",
    "axes[1].set_xlabel('Y (nanometers)')\n",
    "axes[1].set_ylabel('Z (nanometers)')\n",
    "\n",
    "axes[2].scatter(data['x'].values, data['z'].values, s = 2, marker = '.')\n",
    "axes[2].set_title('OG quartz imported')\n",
    "axes[2].set_xlabel('X (nanometers)')\n",
    "axes[2].set_ylabel('Z (nanometers)')"
   ]
  },
  {
   "cell_type": "code",
   "execution_count": 19,
   "id": "d86a4a2d-2b58-401a-bc35-56f79a7db562",
   "metadata": {},
   "outputs": [],
   "source": [
    "def write_lammps_data(df, filename):\n",
    "    with open(filename, 'w') as f:\n",
    "        f.write(\"#LAMMPS data file via pandas\\n\\n\")\n",
    "        f.write(f\"{len(df)} atoms\\n\")\n",
    "        f.write(f\"{df['Type'].nunique() + 1} atom types\\n\\n\")\n",
    "\n",
    "        # Assuming orthogonal box and bounds can be inferred from coordinates\n",
    "        xlo, xhi = df['x'].min(), df['x'].max()\n",
    "        ylo, yhi = df['y'].min(), df['y'].max()\n",
    "        zlo, zhi = df['z'].min(), df['z'].max()\n",
    "\n",
    "        # Add some padding on each wall\n",
    "        pad = 3.0\n",
    "        f.write(f\"{xlo - pad:.6f} {xhi + pad:.6f} xlo xhi\\n\")\n",
    "        #f.write(f\"{ylo - pad:.6f} {yhi + pad:.6f} ylo yhi\\n\")\n",
    "        f.write(f\"-400 400 ylo yhi\\n\") #modify the direction which you're shooting the gold ion to be much longer \n",
    "        f.write(f\"{zlo - pad:.6f} {zhi + pad:.6f} zlo zhi\\n\\n\")\n",
    "        \n",
    "        f.write(\"Masses\\n\\n\")\n",
    "        f.write(f\" 1 28.08500000 # Si\\n\")\n",
    "        f.write(f\" 2 15.99900000 # O\\n\")\n",
    "        f.write(f\" 3 196.9665500 # Au\\n\\n\")\n",
    "\n",
    "        f.write(\"Atoms\\n\\n\")\n",
    "        for _, row in df.iterrows():\n",
    "            f.write(f\"{int(row['ID'])} {int(row['Type'])} {int(row['charge'])} {row['x']} {row['y']} {row['z']}\\n\")"
   ]
  },
  {
   "cell_type": "code",
   "execution_count": 20,
   "id": "53f79139-62a0-4971-be09-f769f393b773",
   "metadata": {},
   "outputs": [],
   "source": [
    "write_lammps_data(data, 'quartz_supercell_emilie.lmp')"
   ]
  },
  {
   "cell_type": "code",
   "execution_count": null,
   "id": "e5f8aa9a",
   "metadata": {},
   "outputs": [],
   "source": []
  }
 ],
 "metadata": {
  "kernelspec": {
   "display_name": "base",
   "language": "python",
   "name": "python3"
  },
  "language_info": {
   "codemirror_mode": {
    "name": "ipython",
    "version": 3
   },
   "file_extension": ".py",
   "mimetype": "text/x-python",
   "name": "python",
   "nbconvert_exporter": "python",
   "pygments_lexer": "ipython3",
   "version": "3.9.7"
  }
 },
 "nbformat": 4,
 "nbformat_minor": 5
}
